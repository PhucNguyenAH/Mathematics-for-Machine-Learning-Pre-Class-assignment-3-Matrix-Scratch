{
 "metadata": {
  "language_info": {
   "codemirror_mode": {
    "name": "ipython",
    "version": 3
   },
   "file_extension": ".py",
   "mimetype": "text/x-python",
   "name": "python",
   "nbconvert_exporter": "python",
   "pygments_lexer": "ipython3",
   "version": "3.7.9-final"
  },
  "orig_nbformat": 2,
  "kernelspec": {
   "name": "python3",
   "display_name": "Python 3.7.9 64-bit",
   "metadata": {
    "interpreter": {
     "hash": "72b1c34b76332f0f72f09e31c0f9e4c59ec7699c745f39fc4caa3eb32fd686bb"
    }
   }
  }
 },
 "nbformat": 4,
 "nbformat_minor": 2,
 "cells": [
  {
   "source": [
    "# Mathematics for Machine Learning Pre-Class assignment 3 Matrix Scratch\n",
    "## Name: Nguyen Anh Hoang Phuc"
   ],
   "cell_type": "markdown",
   "metadata": {}
  },
  {
   "source": [
    "## Problem 1"
   ],
   "cell_type": "markdown",
   "metadata": {}
  },
  {
   "cell_type": "code",
   "execution_count": 37,
   "metadata": {},
   "outputs": [],
   "source": [
    "import numpy as np\n",
    "a_ndarray = np.array([[-1, 2, 3], [4, -5, 6], [7, 8, -9]])\n",
    "b_ndarray = np.array([[0, 2, 1], [0, 2, -8], [2, 9, -1]])"
   ]
  },
  {
   "source": [
    "Result is:\n",
    "$\n",
    "[[ 6,  29, -20], \\\\\n",
    "[ 12,  52,  38], \\\\\n",
    "[-18, -51, -48]] \\\\\n",
    "$\n",
    "Let denote result is R \n",
    "At position $R[i,j]$, I get row i of matrix A inner product with column j of matrix\n",
    "$R[0,0] = A[0,0]*B[0,0] + A[0,1]*B[1,0] + A[0,2]*B[2,0] = -1*0+2*0+3*2 = 6$\n",
    "$R[0,1] = A[0,0]*B[0,1] + A[0,1]*B[1,1] + A[0,2]*B[2,1] = -1*2+2*2+3*9 = 29$\n",
    "Similar with other positions of matrix R"
   ],
   "cell_type": "markdown",
   "metadata": {}
  },
  {
   "source": [
    "## Problem 2"
   ],
   "cell_type": "markdown",
   "metadata": {}
  },
  {
   "cell_type": "code",
   "execution_count": 38,
   "metadata": {},
   "outputs": [
    {
     "output_type": "stream",
     "name": "stdout",
     "text": [
      "Calculation process performed by hand calculation from scratch implementation using NumPy: \n [[  6  29 -20]\n [ 12  52  38]\n [-18 -51 -48]]\n"
     ]
    }
   ],
   "source": [
    "result = []\n",
    "for row in range(a_ndarray.shape[0]):\n",
    "    row_val = []\n",
    "    for col in range(b_ndarray.shape[1]):\n",
    "        temp = a_ndarray[row,:]*b_ndarray[:,col].T \n",
    "        row_val.append(temp.sum())\n",
    "    result.append(row_val)\n",
    "result = np.array(result)\n",
    "print(\"Calculation process performed by hand calculation from scratch implementation using NumPy: \\n {}\".format(result))"
   ]
  },
  {
   "source": [
    "## Problem 3"
   ],
   "cell_type": "markdown",
   "metadata": {}
  },
  {
   "cell_type": "code",
   "execution_count": 39,
   "metadata": {},
   "outputs": [
    {
     "output_type": "stream",
     "name": "stdout",
     "text": [
      "Without using np.matmul() , np.dot() or @ operators, result is 6\n"
     ]
    }
   ],
   "source": [
    "code = a_ndarray[0,:]*b_ndarray[:,0].T\n",
    "code = code.sum()\n",
    "print(\"Without using np.matmul() , np.dot() or @ operators, result is {}\".format(code))"
   ]
  },
  {
   "source": [
    "## Problem 4"
   ],
   "cell_type": "markdown",
   "metadata": {}
  },
  {
   "cell_type": "code",
   "execution_count": 42,
   "metadata": {},
   "outputs": [],
   "source": [
    "def matrix_product(A, B):\n",
    "    result = []\n",
    "    for row in range(a_ndarray.shape[0]):\n",
    "        row_val = []\n",
    "        for col in range(b_ndarray.shape[1]):\n",
    "            temp = a_ndarray[row,:]*b_ndarray[:,col].T \n",
    "            row_val.append(temp.sum())\n",
    "        result.append(row_val)\n",
    "    result = np.array(result)\n",
    "    return result"
   ]
  },
  {
   "cell_type": "code",
   "execution_count": 44,
   "metadata": {},
   "outputs": [
    {
     "output_type": "stream",
     "name": "stdout",
     "text": [
      "Write function that takes matrices A and B as arguments and returns the matrix product, result is \n [[  6  29 -20]\n [ 12  52  38]\n [-18 -51 -48]]\n"
     ]
    }
   ],
   "source": [
    "mat_mul = matrix_product(a_ndarray, b_ndarray)\n",
    "print(\"Write function that takes matrices A and B as arguments and returns the matrix product, result is \\n {}\".format(mat_mul))"
   ]
  },
  {
   "source": [
    "## Problem 5"
   ],
   "cell_type": "markdown",
   "metadata": {}
  },
  {
   "cell_type": "code",
   "execution_count": 53,
   "metadata": {},
   "outputs": [],
   "source": [
    "def matrix_product_cond(A, B):\n",
    "    if A.shape[1] != B.shape[0]:\n",
    "        print(\"The input is invalid, the number of columns of left matrix is not equal to the number of rows of right matrix\")\n",
    "        return None\n",
    "    result = []\n",
    "    for row in range(a_ndarray.shape[0]):\n",
    "        row_val = []\n",
    "        for col in range(b_ndarray.shape[1]):\n",
    "            temp = a_ndarray[row,:]*b_ndarray[:,col].T \n",
    "            row_val.append(temp.sum())\n",
    "        result.append(row_val)\n",
    "    result = np.array(result)\n",
    "    return result"
   ]
  },
  {
   "cell_type": "code",
   "execution_count": 54,
   "metadata": {},
   "outputs": [
    {
     "output_type": "stream",
     "name": "stdout",
     "text": [
      "The input is invalid, the number of columns of left matrix is not equal to the number of rows of right matrix\n"
     ]
    }
   ],
   "source": [
    "d_ndarray_ = np.array([[-1, 2, 3], [4, -5, 6]])\n",
    "e_ndarray = np.array([[-9, 8, 7], [6, -5, 4]])\n",
    "mat_mul_wrong = matrix_product_cond(d_ndarray_,e_ndarray)"
   ]
  },
  {
   "source": [
    "## Problem 6"
   ],
   "cell_type": "markdown",
   "metadata": {}
  },
  {
   "cell_type": "code",
   "execution_count": 56,
   "metadata": {},
   "outputs": [
    {
     "output_type": "stream",
     "name": "stdout",
     "text": [
      "Calculate the matrix product that tranpose a array, result is [[ 14  69 -40]\n [ 16  66  34]\n [-18 -63 -36]]\n"
     ]
    }
   ],
   "source": [
    "a_ndarray_T = a_ndarray.T \n",
    "mat_mul_T = a_ndarray_T@b_ndarray\n",
    "print(\"Calculate the matrix product that tranpose a array, result is {}\".format(mat_mul_T))"
   ]
  },
  {
   "cell_type": "code",
   "execution_count": null,
   "metadata": {},
   "outputs": [],
   "source": []
  }
 ]
}